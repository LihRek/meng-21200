{
 "cells": [
  {
   "cell_type": "code",
   "execution_count": 98,
   "metadata": {},
   "outputs": [],
   "source": [
    "import math\n",
    "import matplotlib.pyplot as plt\n",
    "pi = math.pi"
   ]
  },
  {
   "cell_type": "markdown",
   "metadata": {},
   "source": [
    "## Problem 3  (35 points)\n",
    "#### You are designing a spherical tank to hold water for a small village in a remote location.  The volume of liquid it can hold can be computed as \n",
    "$$V=\\pi h^{2}\\frac{[3R-h]}{3}$$\n",
    "\n",
    "#### where $V$ = volume ($m^3$), $h$ = depth of water in the tank (m), and $R$ = the tank radius (m).  See below or the hardcopy problem statement for a schematic that highlights the system geometry."
   ]
  },
  {
   "attachments": {
    "Figure3-schematic.png": {
     "image/png": "[encoded data removed]"
    }
   },
   "cell_type": "markdown",
   "metadata": {},
   "source": [
    "![Figure3-schematic.png](attachment:Figure3-schematic.png)"
   ]
  },
  {
   "cell_type": "markdown",
   "metadata": {},
   "source": [
    "#### (a)  If $R = 3$ $m$, to what depth must the tank be filled so that it holds $30$ $m^3$?  Use the Newton-Raphson method for this problem.\n"
   ]
  },
  {
   "cell_type": "markdown",
   "source": [
    "trying to solve:\n",
    "$$f(h) = 0$$\n",
    "where\n",
    "$$f(h) = \\pi h^{2}\\frac{[3R-h]}{3} - 30$$\n",
    "simplify:\n",
    "$$f(h) = 3\\pi h^{2}\\ - \\frac{1}{3}\\pi h^{3}-30$$\n",
    "\n"
   ],
   "metadata": {
    "collapsed": false
   }
  },
  {
   "cell_type": "code",
   "execution_count": 99,
   "metadata": {},
   "outputs": [],
   "source": [
    "def f(h):\n",
    "    return 3*pi*h**2 - pi*h**3/3 - 30\n",
    "def fprime(h):\n",
    "    return 6*pi*h - pi*h**2\n",
    "def nr(h0):\n",
    "    h2 = h0\n",
    "    iter = 0\n",
    "    tol = 0.00000001\n",
    "    error = 1\n",
    "    while iter < 1000 and error > tol:\n",
    "        iter += 1\n",
    "        h1 = h2\n",
    "        h2 = h1 - f(h1)/fprime(h1)\n",
    "        error = f(h2)\n",
    "    if error < tol:\n",
    "        return h2\n",
    "    else:\n",
    "        return \"not found\""
   ]
  },
  {
   "cell_type": "code",
   "execution_count": 100,
   "outputs": [
    {
     "name": "stdout",
     "output_type": "stream",
     "text": [
      "h = 2.027\n"
     ]
    }
   ],
   "source": [
    "guess = 3\n",
    "true_root = nr(guess)\n",
    "print(f'h = {round(true_root, 3)}')"
   ],
   "metadata": {
    "collapsed": false
   }
  },
  {
   "cell_type": "markdown",
   "metadata": {},
   "source": [
    "#### (b)   Create a semilog plot of true percent relative error as a function of iteration number."
   ]
  },
  {
   "cell_type": "code",
   "execution_count": 101,
   "metadata": {},
   "outputs": [
    {
     "data": {
      "text/plain": "(1e-06, 100)"
     },
     "execution_count": 101,
     "metadata": {},
     "output_type": "execute_result"
    },
    {
     "data": {
      "text/plain": "<Figure size 432x288 with 1 Axes>",
      "image/png": "[encoded data removed]"
     },
     "metadata": {
      "needs_background": "light"
     },
     "output_type": "display_data"
    }
   ],
   "source": [
    "def nr_plot(h0):\n",
    "    h2 = h0\n",
    "    iter = 0\n",
    "    tol = 0.00000001\n",
    "    error = 1\n",
    "    errors = []\n",
    "    while iter < 1000 and error > tol:\n",
    "        iter += 1\n",
    "        h1 = h2\n",
    "        h2 = h1 - f(h1)/fprime(h1)\n",
    "        error = f(h2)\n",
    "        errors.append(error/true_root * 100)\n",
    "\n",
    "    return errors, iter\n",
    "\n",
    "tpre, n = nr_plot(guess)\n",
    "iters = [i for i in range(n)]\n",
    "\n",
    "plt.plot(iters, tpre)\n",
    "plt.ylabel('true % relative error')\n",
    "plt.xlabel('iterations')\n",
    "plt.yscale(\"log\")\n",
    "plt.ylim([0.000001, 100])"
   ]
  },
  {
   "cell_type": "markdown",
   "metadata": {},
   "source": [
    "#### (c)  If the tank is being filled at a constant volumetric rate (e.g., $0.1$ $m^3/min$⁡), explain what you would expect a plot of the *volume* of water in the tank versus time would look like.  <ins>Explain only</ins>;  no calculations or programming needed.    "
   ]
  },
  {
   "cell_type": "markdown",
   "metadata": {},
   "source": [
    "Constant volumetric rate means that dV/dt = constant, so the curve will have constant slope. It is a straight line until the tank is full."
   ]
  },
  {
   "cell_type": "markdown",
   "metadata": {},
   "source": [
    "#### (d)  If the tank is being filled at a constant volumetric rate (e.g., $0.1$ $m^3/min$⁡), explain what you would expect a plot of the *depth* of water in the tank versus time would look like.  <ins>Explain only</ins>;  no calculations or programming needed.    "
   ]
  },
  {
   "cell_type": "markdown",
   "metadata": {},
   "source": [
    "At a constant volumetric rate, the curve starts off steep at the bottom of the tank since the bottom of the tank is narrower. It gradually flattens until h = R, at which point it starts getting steeper again until the tank is full."
   ]
  },
  {
   "cell_type": "markdown",
   "metadata": {},
   "source": [
    "#### (e)\tStarting with an empty tank (i.e., $h = 0$ $m$ at $t = 0$ $min$), you begin to fill it at a constant volumetric rate.  You measure the height of the water level in the tank to be $h = 2.54$ $m$ and $3.43$ $m$ at times of $t = 175$ $min$ and $275$ $min$, respectively.  What is the volumetric rate at which you are filling the tank?"
   ]
  },
  {
   "cell_type": "code",
   "execution_count": 102,
   "metadata": {},
   "outputs": [
    {
     "name": "stdout",
     "output_type": "stream",
     "text": [
      "volumetric rate is 0.2498 m^3 per min\n"
     ]
    }
   ],
   "source": [
    "h1 = 2.54\n",
    "h2 = 3.43\n",
    "t1 = 175\n",
    "t2 = 275\n",
    "\n",
    "def V(h):\n",
    "    return f(h) + 30\n",
    "V1 = V(h1)\n",
    "V2 = V(h2)\n",
    "rate = (V2 - V1) / (t2 - t1)\n",
    "print(f'volumetric rate is {round(rate, 4)} m^3 per min')"
   ]
  }
 ],
 "metadata": {
  "kernelspec": {
   "display_name": "Python 3",
   "language": "python",
   "name": "python3"
  },
  "language_info": {
   "codemirror_mode": {
    "name": "ipython",
    "version": 3
   },
   "file_extension": ".py",
   "mimetype": "text/x-python",
   "name": "python",
   "nbconvert_exporter": "python",
   "pygments_lexer": "ipython3",
   "version": "3.8.8"
  }
 },
 "nbformat": 4,
 "nbformat_minor": 4
}
