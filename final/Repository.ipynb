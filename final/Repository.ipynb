{
 "cells": [
  {
   "cell_type": "markdown",
   "id": "ed4a49f0",
   "metadata": {},
   "source": [
    "# Final Repository -- Avery "
   ]
  },
  {
   "cell_type": "code",
   "execution_count": 10,
   "id": "78b739ce",
   "metadata": {},
   "outputs": [],
   "source": [
    "import numpy as np\n",
    "from numpy import zeros, random\n",
    "import matplotlib as plt\n",
    "import math\n",
    "import scipy"
   ]
  },
  {
   "cell_type": "markdown",
   "id": "04f3755e",
   "metadata": {},
   "source": [
    "# 00. Graphing"
   ]
  },
  {
   "cell_type": "markdown",
   "id": "74e5daa2",
   "metadata": {},
   "source": [
    "### a) Individual Plots"
   ]
  },
  {
   "cell_type": "code",
   "execution_count": null,
   "id": "d28b50c1",
   "metadata": {},
   "outputs": [],
   "source": [
    "#If you need to create a list of x values\n",
    "x = np.linspace(--,--,50)"
   ]
  },
  {
   "cell_type": "code",
   "execution_count": null,
   "id": "0d83654c",
   "metadata": {},
   "outputs": [],
   "source": [
    "plt.figure(figsize=(12,7))\n",
    "plt.plot(--,--,color='--',label='--',linestyle = '--')\n",
    "plt.legend()\n",
    "plt.title('--')\n",
    "plt.xlabel('--')\n",
    "plt.ylabel('--') \n",
    "plt.axhline(y=--) #horizontal line\n",
    "plt.axvline(x=--) #vertical line\n",
    "\n",
    "#### CAN CHANGE PLOT TO SCATTER TO CREATE A SCATTER PLOT ###"
   ]
  },
  {
   "cell_type": "markdown",
   "id": "6cc89b1b",
   "metadata": {},
   "source": [
    "### b) Subplots"
   ]
  },
  {
   "cell_type": "code",
   "execution_count": null,
   "id": "fbd8339a",
   "metadata": {},
   "outputs": [],
   "source": [
    "fig, ax=plt.subplots(1,2,figsize=(12,7))\n",
    "ax[0].plot(-- , -- ,color='--',label='--')\n",
    "ax[0].legend()\n",
    "ax[0].set_title('--')\n",
    "ax[0].set_xlabel('--')\n",
    "ax[0].set_ylabel('--') \n",
    "\n",
    "ax[1].plot(--, --,color='--',label='--')\n",
    "ax[1].legend()\n",
    "ax[1].set_title('--')\n",
    "ax[1].set_xlabel('--')\n",
    "ax[1].set_ylabel('--')   \n",
    "\n",
    "#### CAN CHANGE PLOT TO SCATTER TO CREATE A SCATTER PLOT ###"
   ]
  },
  {
   "cell_type": "markdown",
   "id": "50d10dc9",
   "metadata": {},
   "source": [
    "### c) Contour Plots"
   ]
  },
  {
   "cell_type": "code",
   "execution_count": null,
   "id": "44419c1e",
   "metadata": {},
   "outputs": [],
   "source": [
    "#Need to create a meshgrid from x and y points\n",
    "\n",
    "#OPTION 1\n",
    "x = np.linspace(-5,5,100)\n",
    "y = np.linspace(-5,5,100)\n",
    "[a,b] = np.meshgrid(x,y)\n",
    "def f(x,y):\n",
    "    return c\n",
    "z=mag(a,b)\n",
    "#Contourf fills it in, contour(a,b,z) would just provide the lines\n",
    "cb = plt.contourf(a,b,z)\n",
    "plt.colorbar(cb)\n",
    "\n",
    "\n",
    "#OPTION 2 (difference is this one uses arange instead of linspace)\n",
    "m= np.arange(.4,1.2,0.001)\n",
    "n= np.arange(.7,1.2,0.001)\n",
    "M, N= np.meshgrid(m, n)\n",
    "z= f(M,N)\n",
    "cb= plt.contour(m,n,z)\n",
    "plt.colorbar(cb, ax=ax, label=\"f(x,y)\")\n",
    "cb.cmap('coolwarm')"
   ]
  },
  {
   "cell_type": "markdown",
   "id": "86c90aff",
   "metadata": {},
   "source": [
    "### d) Quiver Plots"
   ]
  },
  {
   "cell_type": "code",
   "execution_count": null,
   "id": "47d24a0e",
   "metadata": {},
   "outputs": [],
   "source": [
    "a=np.linspace(0,1,20)\n",
    "b=np.linspace(0,1,20)\n",
    "[E,I] = np.meshgrid(a,b)\n",
    "dEdt = \n",
    "dIdt = \n",
    "plt.quiver(E,I,dEdt,dIdt)\n",
    "plt.xlabel('--')\n",
    "plt.ylabel('--')\n",
    "plt.title('--')"
   ]
  },
  {
   "cell_type": "markdown",
   "id": "f6b3ed56",
   "metadata": {},
   "source": [
    "# 0. Numerical Errors:\n",
    " - Round-off Error - limited sig figs\n",
    " - Truncation Error - caused by round-off errors during calculations\n",
    " - Total Numerical Error = sum of truncation and round-off erros\n",
    "\n",
    "### a) True Error (Et)\n",
    "    - Et = true value - approximation\n",
    "##### i)  True Fractional Relative Error =  Et / true value\n",
    "##### ii) True Percent Relative Error = (Et / true value) * 100\n",
    "\n",
    "### b) Approximate Error (Ea)\n",
    "    - Ea = current approx - prior approx\n",
    "##### i)  Approx Fractional Relative Error =  Ea / current approx\n",
    "##### ii) Approx Percent Relative Error = (Ea / current approx) * 100\n",
    "\n",
    "### c) Taylor Series and Truncation Error\n",
    " - Taylor Series Expansion:\n",
    "     - sum of n=0-->infinity of (f^n(a)/n!)(x-a)^n\n",
    " - Truncation error --> Rn = (f^(n+1)(c) / (n+1)!) * h^(n+1)\n",
    " - f^(n+1)(c) is (n+1)th derivative of f evaluated at a point c between x and a\n",
    " "
   ]
  },
  {
   "cell_type": "code",
   "execution_count": null,
   "id": "b67f312f",
   "metadata": {},
   "outputs": [],
   "source": [
    "#Taylor series code\n",
    "x = np.linspace(-np.pi,np.pi,100)\n",
    "def taylorsin(x,n):\n",
    "    fx=0\n",
    "    for i in range (n+1): \n",
    "        fx += ((-1)**i)*(x**(2*i+1))/(np.math.factorial(2*i+1))\n",
    "    return fx\n",
    "plt.plot(x,taylorsin(x,0))"
   ]
  },
  {
   "cell_type": "markdown",
   "id": "8752bb44",
   "metadata": {},
   "source": [
    "# 1. Root Finding"
   ]
  },
  {
   "cell_type": "markdown",
   "id": "3d95ef3b",
   "metadata": {},
   "source": [
    "### ~ Python Root Finding Functions ~"
   ]
  },
  {
   "cell_type": "code",
   "execution_count": 2,
   "id": "3f2050f4",
   "metadata": {},
   "outputs": [],
   "source": [
    "from scipy.optimize import fsolve, brentq"
   ]
  },
  {
   "cell_type": "markdown",
   "id": "6d4e02a0",
   "metadata": {},
   "source": [
    "### a) Bisection Method\n",
    "    - choose interval with a root within it (a,b)\n",
    "    - find center of interval --> c = (a+b)/2\n",
    "    - if f(c)=0 then c is root\n",
    "        - otherwise:\n",
    "            - if f(c)*f(a) < 0 --> new interval is (a, c)\n",
    "            - if f(c)*f(a) > 0 --> new interval is (c, b)\n",
    "    - repeat until a tolerance is met\n",
    "            \n",
    "### b) False Position Method - Linear Interpolation Method\n",
    "    - choose interval with root in it (a,b)\n",
    "    - r = b - ((f(b)(a-b)) / (f(a) - f(b))\n",
    "    - if f(r)=0 then r is the root\n",
    "        - otherwise:\n",
    "            - if f(r)*f(a) < 0 --> new interval is (a, r)\n",
    "            - if f(r)*f(a) > 0 --> new interval is (r, b)\n",
    "    - stopping criteria is necessary in some occasions\n",
    "        - if interval is barely changing then f(value) is divded in half"
   ]
  },
  {
   "cell_type": "code",
   "execution_count": null,
   "id": "e531ca46",
   "metadata": {},
   "outputs": [],
   "source": [
    "#Helpful code\n",
    "#BRENTQ: If you have a function, you can use a brentq to find the root\n",
    "def f(x):\n",
    "    return x*(np.e**x)-np.sin(8*x)-0.5\n",
    "root = brentq(f,0,2) #The last two numbers set the interval\n",
    "\n",
    "#BISECTION METHOD (see pset 1 for this with error)\n",
    "def bisection(f, x1, x2, tol):\n",
    "    i = 0\n",
    "    itlim = 5000 #iteration limit to prevent inefficient/ineffective solution\n",
    "    error = 50\n",
    "    while error > tol and i < itlim:\n",
    "        i += 1\n",
    "        x3 = (x1 + x2) / 2\n",
    "        if f(x1) * f(x3) < 0:\n",
    "            x2 = x3\n",
    "        else:\n",
    "            x1 = x3\n",
    "        error = (x2 - x1) / 2\n",
    "    if i < itlim:\n",
    "        return x3\n"
   ]
  },
  {
   "cell_type": "markdown",
   "id": "f9a8062f",
   "metadata": {},
   "source": [
    "# 2. Numerical Differentiation"
   ]
  },
  {
   "cell_type": "markdown",
   "id": "bd7fd7be",
   "metadata": {},
   "source": [
    "### a) Center Approx"
   ]
  },
  {
   "cell_type": "code",
   "execution_count": null,
   "id": "8503a406",
   "metadata": {},
   "outputs": [],
   "source": [
    "#for center approx f'(x) = (f(x+n*h)-f(x-n*h))/2h error Oh^2 \n",
    "def f(x):\n",
    "    return (np.e)**(-2*x)-x\n",
    "def centerapprox(f,x,h,n):\n",
    "    return (f(x+(n*h))-f(x-(n*h)))/(2*(h*n))\n",
    "\n",
    "#first order approximation\n",
    "j=0.5\n",
    "approx1=[]\n",
    "x1=[]\n",
    "rerror_cen1=[]\n",
    "aerror_cen1=[]\n",
    "while j>=0.01:\n",
    "    approx1.append(centerapprox(f,2,j,1))\n",
    "    x1.append(j)\n",
    "    #This is for the error plots\n",
    "    aerror_cen1.append(abs(truevalue-centerapprox(f,2,j,1))) \n",
    "    rerror_cen1.append(abs((truevalue-centerapprox(f,2,j,1))/truevalue))\n",
    "    j-=0.05\n",
    "    \n",
    "plt.plot(x1,approx1)\n",
    "    \n",
    "#Derivatives based on lists of values\n",
    "x= [153,185,208,249,261,271,273,290,318]\n",
    "t= [0, 0.52, 1.04, 1.75, 2.37, 3.25, 3.83, 4.35, 4.87]\n",
    "average_stepsize=t[-1]/(len(t)-1)\n",
    "v1 = [(x[i + 1] - x[i]) / average_stepsize for i in range((len(x)-1))]\n",
    "a1 = [(v1[i + 1] - v1[i]) / average_stepsize for i in range((len(x)-2))]"
   ]
  },
  {
   "cell_type": "markdown",
   "id": "d7f3a181",
   "metadata": {},
   "source": [
    "### b) Forward approx"
   ]
  },
  {
   "cell_type": "code",
   "execution_count": null,
   "id": "ea730bdb",
   "metadata": {},
   "outputs": [],
   "source": [
    "#For forward approx f'(x)= (f(x+n*h)-f(x))/(n*h)\n",
    "def g(x):\n",
    "    return (np.e)**(-2*x)-x\n",
    "def forwardapprox(g,x,h,n):\n",
    "    return (g(x+n*h)-g(x))/(n*h)\n",
    "\n",
    "#first order approximation\n",
    "L1=0.5\n",
    "approxf1=[]\n",
    "for1=[]\n",
    "rerror_for1=[]\n",
    "aerror_for1=[]\n",
    "while L1>=0.01:\n",
    "    approxf1.append(forwardapprox(g,2,L1,1))\n",
    "    for1.append(L1)\n",
    "    #This is for the error plots\n",
    "    aerror_for1.append(abs(truevalue-forwardapprox(g,2,L1,1))) \n",
    "    rerror_for1.append(abs((truevalue-forwardapprox(g,2,L1,1))/truevalue))\n",
    "    L1-=0.05\n",
    "\n",
    "plt.plot(for1,approxf1)"
   ]
  },
  {
   "cell_type": "markdown",
   "id": "02ed5d28",
   "metadata": {},
   "source": [
    "### c) Backward approx"
   ]
  },
  {
   "cell_type": "code",
   "execution_count": null,
   "id": "f7a61697",
   "metadata": {},
   "outputs": [],
   "source": [
    "#For backward approx f'(x)= (f(x)-f(x-(n*h)))/(n*h)\n",
    "def r(x):\n",
    "    return (np.e)**(-2*x)-x\n",
    "def backwardapprox(r,x,h,n):\n",
    "    return (r(x)-r(x-(n*h)))/(n*h)\n",
    "\n",
    "#first order approximation\n",
    "L3=0.5\n",
    "approxb1=[]\n",
    "bac1=[]\n",
    "rerror_bac1=[]\n",
    "aerror_bac1=[]\n",
    "while L3>=0.01:\n",
    "    approxb1.append(backwardapprox(r,2,L3,1))\n",
    "    bac1.append(L3)\n",
    "    #This is for the error plots\n",
    "    aerror_bac1.append(abs(truevalue-backwardapprox(r,2,L3,1))) \n",
    "    rerror_bac1.append(abs((truevalue-backwardapprox(r,2,L3,1))/truevalue))\n",
    "    L3-=0.05\n",
    "    \n",
    "plt.plot(bac1,approxb1)"
   ]
  },
  {
   "cell_type": "markdown",
   "id": "ece7f9bf",
   "metadata": {},
   "source": [
    "# 3. Least Squares Regression"
   ]
  },
  {
   "cell_type": "markdown",
   "id": "f70f3fd2",
   "metadata": {},
   "source": [
    "### ~ Python's Regression Functions ~"
   ]
  },
  {
   "cell_type": "code",
   "execution_count": 5,
   "id": "4a729525",
   "metadata": {},
   "outputs": [],
   "source": [
    "from scipy.stats import linregress\n",
    "from scipy.optimize import curve_fit"
   ]
  },
  {
   "cell_type": "markdown",
   "id": "7ef245dc",
   "metadata": {},
   "source": [
    "### a) Curve_fit and linregress code for expontential data"
   ]
  },
  {
   "cell_type": "code",
   "execution_count": null,
   "id": "2fef4a44",
   "metadata": {},
   "outputs": [],
   "source": [
    "u1count = [1.7, 1.7, 3.6, 11.2, 22.4, 44.7] #y values\n",
    "u1time = [1.2, 19.6, 28.2, 40.4, 50.2, 60.0] #x values\n",
    "\n",
    "times=np.linspace(0,60,100)    \n",
    "\n",
    "#For linregress\n",
    "ln_undergrad1 = [np.log(i) for i in u1count]\n",
    "result = sc.stats.linregress(u1time,ln_undergrad1)\n",
    "a=np.exp(result.intercept) #coefficient\n",
    "b=result.slope #constant in the expontential \n",
    "lin_function = [a * np.exp(i * b) for i in times]\n",
    "\n",
    "#For the curve fit \n",
    "def exponential(x,a,b,c):\n",
    "    return a * np.exp(b * x) + c\n",
    "p0=[0.1,0.1,0.1] #initial guesses\n",
    "result,_ = curve_fit(exponential, u1time, u1count,p0) #The ,_ is so we can call fitted parameters\n",
    "cf_function = [result[0] * np.exp(i * result[1]) + result[2] for i in times]"
   ]
  },
  {
   "cell_type": "markdown",
   "id": "69b18ac3",
   "metadata": {},
   "source": [
    "# 4. Interpolation"
   ]
  },
  {
   "cell_type": "markdown",
   "id": "054aeb68",
   "metadata": {},
   "source": [
    "### ~ Python's Interpolation Functions ~"
   ]
  },
  {
   "cell_type": "code",
   "execution_count": 7,
   "id": "5af29ac8",
   "metadata": {},
   "outputs": [],
   "source": [
    "from scipy.interpolate import CubicSpline, interp1d"
   ]
  },
  {
   "cell_type": "markdown",
   "id": "3658adea",
   "metadata": {},
   "source": [
    "### a) Inverse interpolation (cubic)"
   ]
  },
  {
   "cell_type": "code",
   "execution_count": null,
   "id": "4fcaec86",
   "metadata": {},
   "outputs": [],
   "source": [
    "x=[0,1,2,3,4,5]\n",
    "y=[0,0.5,0.8,0.9,0.941176,0.961538]\n",
    "m1 = interp1d(y,x,kind='cubic')"
   ]
  },
  {
   "cell_type": "markdown",
   "id": "744b3882",
   "metadata": {},
   "source": [
    "### b) Quadratic Spline"
   ]
  },
  {
   "cell_type": "code",
   "execution_count": null,
   "id": "1d0590d7",
   "metadata": {},
   "outputs": [],
   "source": [
    "## Defining the spline\n",
    "def spline(J,K): \n",
    "    interval = 0\n",
    "    xvals = []\n",
    "    coeffs = {}\n",
    "    \n",
    "    #first deal with adjusting x values such that we're in the right interval\n",
    "    for i in range(0,5): #5 because 5 data points\n",
    "        interval +=1\n",
    "        if interval < 5:\n",
    "            xvals.append((J[i],J[i+1]))\n",
    "    #now deal with all the coefficients, etc. \n",
    "    for n in range (0,len(xvals)):\n",
    "        vals = xvals[n]\n",
    "        x0,xi = vals\n",
    "        \n",
    "    #For the first interval need to define the base func\n",
    "    #then the same quadratic with the next x val\n",
    "        if n==0:\n",
    "            #a creates a matrix of the 1st eqn,2nd,and ep\n",
    "            a=np.array([[x0**2,x0,1],[xi**2,xi,1],[1,0,0]])\n",
    "            #b craetes a matrix for the first y, second y, eq\n",
    "            b=np.array([K[n],K[n+1],0])\n",
    "            coeffs[vals] = np.linalg.solve(a,b)\n",
    "            oldvals = vals\n",
    "            \n",
    "        else: #If not in the first intertwined we need more to solve for\n",
    "            a0,b0,c0= coeffs[oldvals]\n",
    "            deriv=2*a0*J[n]+b0\n",
    "            #main equation, deriv, next eqn\n",
    "            a=np.array([[x0**2,x0,1],[2*x0,1,0],[xi**2,xi,1]])\n",
    "            b=np.array([K[n], deriv, K[n+1]])\n",
    "            coeffs[vals] = np.linalg.solve(a,b)\n",
    "            oldvals = vals\n",
    "    return coeffs\n",
    "\n",
    "## Finding the functions\n",
    "x=np.array([1,2,3,4,5])\n",
    "y=[np.sin(1),np.sin(2),np.sin(3),np.sin(4),np.sin(5)]\n",
    "#good rythmn\n",
    "answer = spline(x,y)\n",
    "for vals in answer:\n",
    "    a,b,c = answer[vals]\n",
    "    a1=str(round(a, 2))\n",
    "    b1=str(round(b, 2))\n",
    "    c1=str(round(c, 2))\n",
    "    print(str(vals)+': ' +a1+'x^2 + '+b1+'x + '+c1)\n",
    "\n",
    "##Plotting the functions\n",
    "x=np.array([1,2,3,4,5])\n",
    "y=[np.sin(1),np.sin(2),np.sin(3),np.sin(4),np.sin(5)]\n",
    "\n",
    "xint1=np.linspace(1,2,50)\n",
    "yint1=0.0*(xint1)**2+0.07*(xint1)+0.77\n",
    "xint2=np.linspace(2,3,50)\n",
    "yint2=-0.84*(xint2)**2+3.41*(xint2)-2.57\n",
    "xint3=np.linspace(3,4,50)\n",
    "yint3=0.706258*(xint3)**2+-5.84*(xint3)+11.31\n",
    "xint4=np.linspace(4,5,50)\n",
    "yint4=-0.01*(xint4)**2+-0.11*(xint4)+-0.16\n",
    "\n",
    "\n",
    "plt.scatter(x,y,color='black',label='points')\n",
    "plt.plot(xint1,yint1,color='pink',label='spline')\n",
    "plt.plot(xint2,yint2,color='pink')\n",
    "plt.plot(xint3,yint3,color='pink')\n",
    "plt.plot(xint4,yint4,color='pink'"
   ]
  },
  {
   "cell_type": "markdown",
   "id": "9166b7cb",
   "metadata": {},
   "source": [
    "# 5. Numerical Integration"
   ]
  },
  {
   "cell_type": "markdown",
   "id": "b077f4f1",
   "metadata": {},
   "source": [
    "### ~ Python's Integration Functions ~"
   ]
  },
  {
   "cell_type": "code",
   "execution_count": 8,
   "id": "5635c2ea",
   "metadata": {},
   "outputs": [],
   "source": [
    "from scipy.integrate import dblquad, quad"
   ]
  },
  {
   "cell_type": "markdown",
   "id": "704113ee",
   "metadata": {},
   "source": [
    "### a) Gaussian Quadrature"
   ]
  },
  {
   "cell_type": "code",
   "execution_count": null,
   "id": "03afc128",
   "metadata": {},
   "outputs": [],
   "source": [
    "def integrand(x):\n",
    "    return np.e**(-x**2)\n",
    "\n",
    "def GQ(f,x1,x2):\n",
    "    x=1/np.sqrt(3)\n",
    "    return ((x2-x1)/2)*(f(-x*(x2-x1)/2+(x2+x1)/2)+f(x*(x2-x1)/2+(x2+x1)/2))\n",
    "\n",
    "Approx = 2/np.sqrt(np.pi)*GQ(integrand,0,1.5)\n",
    "\n",
    "#USING SCIPY\n",
    "scipyapprox = scipy.integrate.quad(integrand,0,1.5)[0] ##Note quad is for single integral\n",
    "scipyapprox = 2/np.sqrt(np.pi)*scipyapprox"
   ]
  },
  {
   "cell_type": "markdown",
   "id": "89a05fec",
   "metadata": {},
   "source": [
    "### b) Double Integral"
   ]
  },
  {
   "cell_type": "code",
   "execution_count": null,
   "id": "49236ef6",
   "metadata": {},
   "outputs": [],
   "source": [
    "def f(x,y,z): #this is the integrand\n",
    "    return 1/((x**2+y**2+z**2)**(3/2))\n",
    "def fz(z,f):\n",
    "    R = 100\n",
    "    sig = 10000/(np.pi*R**2)\n",
    "    G = 6.67408*10**-11\n",
    "    lowerx = -R\n",
    "    upperx = R\n",
    "    lowery = lambda x,r=R:-(r**2-x**2)**0.5\n",
    "    uppery = lambda x,r=R:(r**2-x**2)**0.5\n",
    "    return G*sig*z*dblquad(f,lowerx,upperx,lowery,uppery, args=(z,))[0]\n",
    "\n",
    "z=np.linspace(50,1000)\n",
    "values = []\n",
    "\n",
    "for i in z:\n",
    "    values.append(fz(i,f))\n",
    "values = np.array(values)"
   ]
  },
  {
   "cell_type": "markdown",
   "id": "bd2b3505",
   "metadata": {},
   "source": [
    "# 6. Numerical methods for solving ODEs\n",
    "### Initial Value Problems (IVPs) and Boundary Value Problems (BVPs)"
   ]
  },
  {
   "cell_type": "markdown",
   "id": "c4f188bb",
   "metadata": {},
   "source": [
    "### ~ Python's ODE Functions ~"
   ]
  },
  {
   "cell_type": "code",
   "execution_count": 9,
   "id": "53ff7b6a",
   "metadata": {},
   "outputs": [],
   "source": [
    "#Can call RK23, RK45, LSODA DOP853, Radau, and BDF for solve_ivp\n",
    "from scipy.integrate import solve_ivp, solve_bvp"
   ]
  },
  {
   "cell_type": "markdown",
   "id": "7be0f8dd",
   "metadata": {},
   "source": [
    "### a) Euler's Method"
   ]
  },
  {
   "cell_type": "code",
   "execution_count": null,
   "id": "727316de",
   "metadata": {},
   "outputs": [],
   "source": [
    "## As a function\n",
    "def euler(f,xi,xf,yi,h):\n",
    "    x=xi\n",
    "    y=yi\n",
    "    v = []\n",
    "    while x<=xf:\n",
    "        v.append(y)\n",
    "        x= x+h\n",
    "        y= y+h*f(x,y)\n",
    "    return v\n",
    "\n",
    "#To test it prints a list of values\n",
    "def fun(x,y):\n",
    "    return x*y\n",
    "print(euler(fun,0,5,4,0.5))\n",
    "\n",
    "## As just a bunch of matrices (for system of diff eqs)\n",
    "h = 0.01\n",
    "ematrix = np.zeros(n+1)\n",
    "ematrix[0] = e0\n",
    "imatrix = np.zeros(n+1)\n",
    "imatrix[0] = i0\n",
    "tmatrix = np.zeros(n+1)\n",
    "tmatrix[0] = ti\n",
    "\n",
    "for i in range (1, n+1):\n",
    "    E = ematrix[i-1]\n",
    "    I = imatrix[i-1]\n",
    "    t = tmatrix[i-1]\n",
    "    \n",
    "    dEdt = --\n",
    "    dIdt = --\n",
    "    \n",
    "    ematrix[i] = E + h*dEdt\n",
    "    imatrix[i] = I + h*dIdt\n",
    "    tmatrix[i] = t + h"
   ]
  },
  {
   "cell_type": "markdown",
   "id": "26095a84",
   "metadata": {},
   "source": [
    "### b) Heun's Method"
   ]
  },
  {
   "cell_type": "code",
   "execution_count": null,
   "id": "88290c09",
   "metadata": {},
   "outputs": [],
   "source": [
    "def heun(f,xi,xf,yi,h):\n",
    "    x=xi\n",
    "    y=yi\n",
    "    a = []\n",
    "    while x <= xf:\n",
    "        a.append(y)\n",
    "        k1=f(x,y)\n",
    "        k2=f(x+h,y+k1*h)\n",
    "        x=x+h\n",
    "        y=y+h*(k1+k2)/2\n",
    "    return a\n",
    "\n",
    "#To test it prints a list of values\n",
    "def fun(x,y):\n",
    "    return x*y\n",
    "print(heun(fun,0,5,4,0.5))"
   ]
  },
  {
   "cell_type": "markdown",
   "id": "bba26eff",
   "metadata": {},
   "source": [
    "### c) 4th order runge-kutta method"
   ]
  },
  {
   "cell_type": "code",
   "execution_count": null,
   "id": "af0da351",
   "metadata": {},
   "outputs": [],
   "source": [
    "def dH(t,H):\n",
    "    C = 0.55\n",
    "    A = np.pi*(0.015**2)\n",
    "    g=9.81\n",
    "    r = 1.5\n",
    "    return -(C*A*(2*g*H)**0.5)/(2*np.pi*r*H-np.pi*H**2)\n",
    "\n",
    "tvals = []\n",
    "rk = []\n",
    "\n",
    "#initial conditions\n",
    "Hi = 2.75\n",
    "H = Hi\n",
    "t0 = 0\n",
    "\n",
    "#step size\n",
    "h = 5\n",
    "\n",
    "# maximum number of iterations (picked this until I saw the graph reach 0)\n",
    "N = 10000\n",
    "\n",
    "for i in range(1, N+1):\n",
    "    tvals.append(i)\n",
    "    rk.append(H)\n",
    "    k1 = dH(t0, H)\n",
    "    k2 = dH(t0 + h/2, H + k1*h/2)\n",
    "    k3 = dH(t0 + h/2, H + k2*h/2)\n",
    "    k4 = dH(t0 + h, H + k3*h)\n",
    "    H = H + (k1 + 2*k2 + 2*k3 + k4) / 6\n",
    "    t0 = t0 + h\n",
    "    \n",
    "    if H <= 0.01:\n",
    "        break"
   ]
  },
  {
   "cell_type": "markdown",
   "id": "f8339a4c",
   "metadata": {},
   "source": [
    "### d) SOLVE_IVP for a system of linear diff eqs"
   ]
  },
  {
   "cell_type": "code",
   "execution_count": null,
   "id": "85bfb8ea",
   "metadata": {},
   "outputs": [],
   "source": [
    "def xprime(t,y):\n",
    "    return [-10*y[0] + 10*y[1]]\n",
    "def yprime(t,y):\n",
    "    return [28*y[0] - y[1] - y[0]*y[2]]\n",
    "def zprime(t,y):\n",
    "    return [-2.666667*y[2] + y[0]*y[1]]\n",
    "def primesum(t,y):\n",
    "    return np.array(xprime(t,y)+yprime(t,y)+zprime(t,y))\n",
    "\n",
    "a= solve_ivp(primesum,[0,20],[5,5,5],method=\"RK45\")\n",
    "\n",
    "time = a.t\n",
    "x = a.y[0]\n",
    "y = a.y[1]\n",
    "z = a.y[2]"
   ]
  },
  {
   "cell_type": "markdown",
   "id": "60b8e21d",
   "metadata": {},
   "source": [
    "### e) Turn a 2nd order diff eq into a system of 2 ODE/ Solve with Shooting Method\n",
    "d^2(T)/dx^2 = 10^-7(T+273)^4-4(150-T)\n",
    "\n",
    "let dT/dx=k such that the derivative of T again equals the right side of the above equation\n",
    "\n",
    "dk/dx = d^2(T)/dx^2 = 10^-7(T+273)^4-4(150-T)"
   ]
  },
  {
   "cell_type": "code",
   "execution_count": null,
   "id": "b3aa0a99",
   "metadata": {},
   "outputs": [],
   "source": [
    "def d1(x,y,k):\n",
    "    return k\n",
    "def d2(x,y,k):  \n",
    "    return (10**-7)*(y+273)**4+4*(y-150)\n",
    "#eulers method for the shooter method\n",
    "def e(x0,xf,m,n,h):\n",
    "    vals = [(x0,m,n)]\n",
    "    xi, mi, ni = vals[-1]\n",
    "    x = []\n",
    "    y = []\n",
    "    k = []\n",
    "    while xi+h < xf:\n",
    "        mi2 = mi + h*f1(xi,mi,ni)\n",
    "        ni2 = ni + h*f2(xi,mi,ni) \n",
    "        vals.append((xi+h,mi2,ni2))\n",
    "        xi, mi, ni = vals[-1]   \n",
    "    for v in vals:\n",
    "        X,mi,ni = v\n",
    "        x.append(X)\n",
    "        y.append(mi)\n",
    "        k.append(ni)\n",
    "    return x,y,k\n",
    "#for the shooter method we need to use guesses and compare to BCs\n",
    "def shooter(x0,xf,y0,yf,h,tol=.001):  \n",
    "    #need to start with the guesses and access from the array\n",
    "    j = [-2,2]\n",
    "    j1 = j[0]\n",
    "    j2 = j[1]\n",
    "    #use the euler thing from above to solve\n",
    "    # do it for both\n",
    "    x1,m1,n1 = e(x0,xf,y0,j1,h)\n",
    "    x2,m2,n2 = e(x0,xf,y0,j2,h)\n",
    "    #adjust gyuess\n",
    "    g1 = n1[-1]\n",
    "    g2 = n2[-1]\n",
    "    #the idea is until the error is low enough we keep adjusting\n",
    "    error = abs((yf-g2)/yf)\n",
    "    while error > tol:\n",
    "        #change by subtracting slope form the guess\n",
    "        ji = j2 - (g2-yf)*((j2-j1)/(g2-g1))\n",
    "        j.append(ji)\n",
    "        j1 = j[-2]\n",
    "        j2 = j[-1]\n",
    "        #again use the solvey thing\n",
    "        x1,m1,n1 = e(x0,xf,y0,j1,h)\n",
    "        x2,m2,n2 = e(x0,xf,y0,j2,h)\n",
    "        g1 = m1[-1]\n",
    "        g2 = m2[-1]\n",
    "        error = abs((yf-g2)/yf)\n",
    "    return x2,m2,n2\n",
    "x,y,dy = shooter(0,.5,200,100,.05)"
   ]
  },
  {
   "cell_type": "markdown",
   "id": "3d7ad740",
   "metadata": {},
   "source": [
    "# 7/8. Numerical Methods for solving systems of linear and nonlinear equations"
   ]
  },
  {
   "cell_type": "markdown",
   "id": "882ab7b7",
   "metadata": {},
   "source": [
    "### ~ Python System Solver Functions ~"
   ]
  },
  {
   "cell_type": "code",
   "execution_count": 6,
   "id": "8ec7545c",
   "metadata": {},
   "outputs": [],
   "source": [
    "from numpy.linalg import solve, inv"
   ]
  },
  {
   "cell_type": "markdown",
   "id": "2cadae11",
   "metadata": {},
   "source": [
    "### a) Creating Matrices/Vectors"
   ]
  },
  {
   "cell_type": "code",
   "execution_count": null,
   "id": "e7443c85",
   "metadata": {},
   "outputs": [],
   "source": [
    "def A(N):\n",
    "    return np.random.uniform(-10,10,size=(N,N))\n",
    "#(ii) vector\n",
    "def b(N):\n",
    "    vector = []\n",
    "    vector.append(np.random.uniform(-10,10,size=(N,1)))\n",
    "    return np.array(vector)\n",
    "def matrix(N):\n",
    "    return [A(N),b(N)]"
   ]
  },
  {
   "cell_type": "markdown",
   "id": "ce3a3812",
   "metadata": {},
   "source": [
    "### b) Gaussian Elimination "
   ]
  },
  {
   "cell_type": "code",
   "execution_count": null,
   "id": "ef428626",
   "metadata": {},
   "outputs": [],
   "source": [
    "def matrix(N):\n",
    "    return [A(N),b(N)]\n",
    "for n in N:\n",
    "    [amat,bvec] = matrix(n)\n",
    "    x=np.zeros(n)\n",
    "    for p in range(n-1):\n",
    "        for t in range(p+1,n):\n",
    "            #pivot row\n",
    "            p_row = amat[p,:]\n",
    "            #transform row\n",
    "            t_row = amat[t,:]\n",
    "            factor = t_row[p]/p_row[p]\n",
    "            #new row\n",
    "            new_row = t_row - factor*p_row\n",
    "            bvec[:,t] = bvec[:,t] - factor*bvec[:,p]\n",
    "            amat[t,:] = new_row\n",
    "    #backward substitution\n",
    "    for i in range(n-1,-1,-1):\n",
    "        x[i]=bvec[:,i]\n",
    "        for c in range(i+1,n):\n",
    "            x[i]-=x[c]*amat[i,c]\n",
    "        x[i]/=amat[i,i]"
   ]
  },
  {
   "cell_type": "markdown",
   "id": "c1ead414",
   "metadata": {},
   "source": [
    "### c) Inverses and determinants (idk where this actually fits)"
   ]
  },
  {
   "cell_type": "code",
   "execution_count": null,
   "id": "cb5713cf",
   "metadata": {},
   "outputs": [],
   "source": [
    "###Manual Inverse with LU Decomposition\n",
    "import numpy as np\n",
    "\n",
    "def A(test):\n",
    "    length = len(test)\n",
    "    L = np.identity(length)\n",
    "    U = np.zeros((length, length))\n",
    "\n",
    "    for j in range(length):\n",
    "        U[0][j] = test[0][j]\n",
    "    \n",
    "    for i in range(1, length):\n",
    "        L[i][0] = test[i][0] / U[0][0]\n",
    "    \n",
    "    for i in range(1, length):\n",
    "        for j in range(i, length):\n",
    "            s = 0\n",
    "            for k in range(i):\n",
    "                s += L[i][k] * U[k][j]\n",
    "            U[i][j] = test[i][j] - s\n",
    "        for j in range(i+1, length):\n",
    "            s = 0\n",
    "            for k in range(i):\n",
    "                s += L[j][k] * U[k][i]\n",
    "            L[j][i] = (test[j][i] - s) / U[i][i]\n",
    "    \n",
    "    return L, U\n",
    "\n",
    "def inverse(L, U):\n",
    "    length = len(L)\n",
    "    m = np.identity(length)\n",
    "    \n",
    "    for k in range(length):\n",
    "        y = np.zeros(length)\n",
    "        y[0] = m[0][k] / L[0][0]\n",
    "        for i in range(1, length):\n",
    "            s = 0\n",
    "            for j in range(i):\n",
    "                s += L[i][j] * y[j]\n",
    "            y[i] = (m[i][k] - s) / L[i][i]\n",
    "        x = np.zeros(length)\n",
    "        x[length-1] = y[length-1] / U[length-1][length-1]\n",
    "        for i in range(length-2, -1, -1):\n",
    "            s = 0\n",
    "            for j in range(i+1, length):\n",
    "                s += U[i][j] * x[j]\n",
    "            x[i] = (y[i] - s) / U[i][i]\n",
    "        m[:,k] = x \n",
    "    \n",
    "    return m"
   ]
  },
  {
   "cell_type": "code",
   "execution_count": null,
   "id": "ece34b37",
   "metadata": {},
   "outputs": [],
   "source": [
    "### Numpy inverse \n",
    "test1 = np.array([[6, 1, -5, 3], [2, 4, 5, 6], [2, 3, 7, 1], [1, 2, 0, -2]])\n",
    "numpy = inv(test1)"
   ]
  },
  {
   "cell_type": "markdown",
   "id": "6aa43930",
   "metadata": {},
   "source": [
    "### d) linalg.solve"
   ]
  },
  {
   "cell_type": "code",
   "execution_count": null,
   "id": "6e761d5c",
   "metadata": {},
   "outputs": [],
   "source": [
    "a1=np.array([[1,2,3,-5],\n",
    "           [2,5,4,-1],\n",
    "           [1,-1,10,2],\n",
    "           [3,-2,5.,-3]])\n",
    "b1 = np.array([-44,8.,44,-16])\n",
    "\n",
    "np.linalg.solve(a1,b1)"
   ]
  },
  {
   "cell_type": "markdown",
   "id": "1cca878b",
   "metadata": {},
   "source": [
    "### e) Gauss Seidel"
   ]
  },
  {
   "cell_type": "code",
   "execution_count": null,
   "id": "867fe7a0",
   "metadata": {},
   "outputs": [],
   "source": [
    "#With(out) relaxation (pset 6)\n",
    "def guess(a0, b0):\n",
    "    updateda = []\n",
    "    updatedb = []\n",
    "    #{} defines a dictionary which can store keys and values \n",
    "    m = {}\n",
    "    column = 0\n",
    "    for i in range(len(a0)):\n",
    "        m[i] = None\n",
    "    while column < len(a0):\n",
    "        limits = (0, -75)\n",
    "        row = 0\n",
    "        while row < len(a0):\n",
    "            value = abs(a0[row][column])\n",
    "            if value > limits[0] and m[row] == None:\n",
    "                limits = (value, row)\n",
    "            row += 1\n",
    "        updateda.append(a0[limits[1]])\n",
    "        updatedb.append(b0[limits[1]])\n",
    "        column += 1\n",
    "    return updateda, updatedb\n",
    "\n",
    "def f(at, bt, relaxation, xi=None, tol=0.0001):\n",
    "    A, B = guess(at, bt)\n",
    "    x = [np.ones(len(B))]\n",
    "    error = 0\n",
    "    p = []\n",
    "    for j in range(len(A)):\n",
    "        s = 0\n",
    "        v = B[j]\n",
    "        for i in range(len(p)):\n",
    "            s += (A[j][i] * p[i])\n",
    "        for i in range(len(p), len(A[j])):\n",
    "            s += (A[j][i] * x[-1][i])\n",
    "        p.append(x[-1][j] + relaxation * (v - s) / (A[j][j]))\n",
    "        error1 = abs(p[j] / x[-1][j] - 1)\n",
    "        if error1 > error:\n",
    "            error = error1\n",
    "    x.append(p)\n",
    "    for error1 in iter(lambda: error > tol, False):\n",
    "        error = 0\n",
    "        p = []\n",
    "        for j in range(len(A)):\n",
    "            s = 0\n",
    "            v = B[j]\n",
    "            for i in range(len(p)):\n",
    "                s += (A[j][i] * p[i])\n",
    "            for i in range(len(p), len(A[j])):\n",
    "                s += (A[j][i] * x[-1][i])\n",
    "            p.append(x[-1][j] + relaxation*(v - s) / (A[j][j]))\n",
    "            error1 = abs((p[j] - x[-1][j]) / x[-1][j])\n",
    "            if error1 > error:\n",
    "                error = error1\n",
    "        x.append(p)\n",
    "    return x\n",
    "answer = f(a1,b1,1) #can change to 1 to whatever w= for problems with relaxation"
   ]
  },
  {
   "cell_type": "markdown",
   "id": "e9cf457a",
   "metadata": {},
   "source": [
    "### f) Fixed point iteration (non-linear systems)"
   ]
  },
  {
   "cell_type": "code",
   "execution_count": null,
   "id": "f0d6852c",
   "metadata": {},
   "outputs": [],
   "source": [
    "#First graph to obtain initial guesses\n",
    "def f(x):\n",
    "    return x**2 + 1\n",
    "def g(x):\n",
    "    return 2*np.cos(x)\n",
    "\n",
    "xi = 0.75\n",
    "yi = 1.50\n",
    "\n",
    "i = 0\n",
    "\n",
    "while i < 25:\n",
    "    i += 1\n",
    "    \n",
    "    x = np.sqrt(yi-1)\n",
    "    xi = x\n",
    "    \n",
    "    y = np.sqrt(2*np.cos(x)+yi**2-yi)\n",
    "    yi = y\n",
    "\n",
    "xval = round(x, 3)\n",
    "yval = round(y, 3)"
   ]
  },
  {
   "cell_type": "markdown",
   "id": "461bf398",
   "metadata": {},
   "source": [
    "### g) Newton-Raphson Method"
   ]
  },
  {
   "cell_type": "code",
   "execution_count": null,
   "id": "f6888f1e",
   "metadata": {},
   "outputs": [],
   "source": [
    "i = 0\n",
    "while i < 25:\n",
    "    #Used notation y0 because we want eqn to equal 0 \n",
    "    y01 = xi**2 + 1 - yi\n",
    "    y02 = 2*np.cos(xi) - yi\n",
    "    \n",
    "    dy01dx = 2*xi\n",
    "    dy01dy = -1\n",
    "\n",
    "    dy02dx = -2*np.sin(xi)\n",
    "    dy02dy = -1\n",
    "    \n",
    "    j = (dy01dx * dy02dy) - (dy01dy * dy02dx)\n",
    "    x = xi - ((y01*dy02dy - y02*dy01dy) / j )\n",
    "    y = yi - (((y02*dy01dx) - (y01*dy02dx)) / j )\n",
    "\n",
    "    xi = x\n",
    "    yi = y\n",
    "    i += 1\n",
    "    \n",
    "xval1 = round(x,3)\n",
    "yval1 = round(y, 3) "
   ]
  },
  {
   "cell_type": "markdown",
   "id": "2d82c87d",
   "metadata": {},
   "source": [
    "### h) Successive Substitution Method/ Multi-eqn NR method (to find initial guesses)"
   ]
  },
  {
   "cell_type": "code",
   "execution_count": null,
   "id": "d7eed90e",
   "metadata": {},
   "outputs": [],
   "source": [
    "###Multi equation newton raphson\n",
    "def g(x1, x2, x3):\n",
    "    def f(x1, x2, x3):\n",
    "        return np.array([3*x1*x2 + x2-x3 - 12, x1 - x1**2*x2 + x3 - 12, x1 - x2 - x3 + 2])\n",
    "    sol = f(x1, x2, x3)\n",
    "    return abs(sol[0]) + abs(sol[1]) + abs(sol[2])\n",
    "\n",
    "def j(x1, x2, x3):\n",
    "    return np.array([[3 * x2, 1, -1], [1 - 2 * x1 * x2, -x1 ** 2, 1],[1, -1, -1]])\n",
    "\n",
    "x1, x2, x3 = [0, 0, 0]\n",
    "tol = 0.0001\n",
    "\n",
    "for i in range(1000):\n",
    "    d1, d2, d3 = np.matmul(np.linalg.inv(j(x1, x2, x3)), f(x1, x2, x3))\n",
    "    x1, x2, x3 = x1 - d1, x2 - d2, x3 - d3\n",
    "    \n",
    "    if g(x1, x2, x3) <= tol:\n",
    "        break\n",
    "\n",
    "x1val = round(x1,5)\n",
    "x2val = round(x2,5)\n",
    "x3val = round(x3,5)\n",
    "\n",
    "###Successive Substitution\n",
    "h = 0.001\n",
    "x1, x2, x3 = [-2.65, -1.90, 1.25] \n",
    "tol = 0.001\n",
    "\n",
    "while True:\n",
    "    # guesses\n",
    "    x1_new = x1 + h * f(x1, x2, x3)[0]\n",
    "    x2_new = x2 + h * f(x1, x2, x3)[1]\n",
    "    x3_new = x3 + h * f(x1, x2, x3)[2]\n",
    "    # end if difference between the current and new guesses is less than the tolerance level\n",
    "    if abs(x1_new - x1) < tol and abs(x2_new - x2) < tol and abs(x3_new - x3) < tol:\n",
    "        break\n",
    "    x1, x2, x3 = x1_new, x2_new, x3_new # Update guesses \n",
    "\n",
    "x1val2 = round(x1,2)\n",
    "x2val2 = round(x2,2)\n",
    "x3val2 = round(x3,2)"
   ]
  },
  {
   "cell_type": "markdown",
   "id": "39358adb",
   "metadata": {},
   "source": [
    "# 9. Optimization: 1-D and multi-D unconstrained Systems"
   ]
  },
  {
   "cell_type": "markdown",
   "id": "01f97ee6",
   "metadata": {},
   "source": [
    "### ~ Python's Optimization Functions ~"
   ]
  },
  {
   "cell_type": "code",
   "execution_count": null,
   "id": "7a84e5e3",
   "metadata": {},
   "outputs": [],
   "source": [
    "from scipy.optimize import golden, minimize scalar"
   ]
  },
  {
   "cell_type": "markdown",
   "id": "e3261c67",
   "metadata": {},
   "source": [
    "### a) Golden search"
   ]
  },
  {
   "cell_type": "code",
   "execution_count": null,
   "id": "a540806f",
   "metadata": {},
   "outputs": [],
   "source": [
    "golden_ratio = (0.5*(np.sqrt(5)-1))\n",
    "def length2(x,d): #function to optimize\n",
    "    h = 6\n",
    "    angle = x/(np.sqrt(x**2+h**2))\n",
    "    l = (x+d)/angle\n",
    "    return l\n",
    "\n",
    "def g2(f,a,b,tol = 1e-6):  \n",
    "    xl = a\n",
    "    xu = b\n",
    "    \n",
    "    dist = (xu-xl)*golden_ratio\n",
    "    x1 = xl + dist\n",
    "    x2 = xu - dist\n",
    "    \n",
    "    if f(x1,6)<f(x2,6):\n",
    "        xl = x2\n",
    "    else:\n",
    "        xu = x1\n",
    "      \n",
    "    while abs(xu-xl) > tol:\n",
    "        dist = (xu-xl)*golden_ratio\n",
    "        x1 = xl + dist\n",
    "        x2 = xu - dist\n",
    "    \n",
    "        if f(x1,6)<f(x2,6):\n",
    "            xl = x2\n",
    "        else:\n",
    "            xu = x1\n",
    "    \n",
    "    return (xl+xu)/2"
   ]
  },
  {
   "cell_type": "markdown",
   "id": "0bc3da79",
   "metadata": {},
   "source": [
    "### b) Minimize_Scalar"
   ]
  },
  {
   "cell_type": "code",
   "execution_count": null,
   "id": "2eff0989",
   "metadata": {},
   "outputs": [],
   "source": [
    "calculation = scipy.optimize.minimize_scalar(length,(1e-6, 1e3)) #This function is defined above\n",
    "lengthc = calculation.fun"
   ]
  },
  {
   "cell_type": "markdown",
   "id": "1e824952",
   "metadata": {},
   "source": [
    "### c) (Optimal) steepest descent"
   ]
  },
  {
   "cell_type": "code",
   "execution_count": null,
   "id": "dc270f4f",
   "metadata": {},
   "outputs": [],
   "source": [
    "####Steepest descent\n",
    "\n",
    "#the functions\n",
    "def xprime(x,y):\n",
    "    return 10*x - 5*y -1\n",
    "\n",
    "def yprime(x,y):\n",
    "    return 5*y - 5*x - 1.5\n",
    "\n",
    "def f(x,y):\n",
    "    return 5*x**2 - 5*x*y + 2.5*y**2 -x - 1.5*y\n",
    "\n",
    "#the function\n",
    "def steepest_descent(guess,xprime, yprime,tol=0.001,list = False):\n",
    "    x = guess[0]\n",
    "    y = guess[1]\n",
    "    xnew = [x]\n",
    "    ynew = [y]\n",
    "    \n",
    "    while abs(xprime(x,y)) > tol or abs(yprime(x,y)) > tol:\n",
    "        x = x - 0.1*xprime(x,y)\n",
    "        y = y - 0.1*yprime(x,y)\n",
    "        xnew.append(x)\n",
    "        ynew.append(y)\n",
    "    if not list:\n",
    "        return (x,y)\n",
    "    #This is so I can get the contour plot\n",
    "    else:\n",
    "        return xnew,ynew\n",
    "x1,y1 = steepest_descent((1,1),xprime, yprime)\n",
    "x1 = round(x1,3)\n",
    "y1 = round(y1,3)\n",
    "print(f'The steepest descent method finds a minimum of {round(f(x1,y1),3)} at ({x1},{y1})')\n",
    "\n",
    "\n",
    "####Optimal Steepest descent\n",
    "def opt_steepest_descent(guess2, tol=0.001):\n",
    "    x2 = guess2[0]\n",
    "    y2 = guess2[1]\n",
    "    xnew2 = [x2]\n",
    "    ynew2 = [y2]\n",
    "    \n",
    "    #This is basically the same as steepest descent method but now we've got to find h\n",
    "    i = 0\n",
    "    while True:\n",
    "        dx = xprime(x2, y2)\n",
    "        dy = yprime(x2, y2)\n",
    "        \n",
    "        #find h value\n",
    "        evaluate = lambda h: f(x2 + dx*h, y2 + dy*h)\n",
    "        hval = minimize_scalar(evaluate).x\n",
    "        \n",
    "        #update the guess (basically find the next step)\n",
    "        xnew2.append(x2 + dx*hval)\n",
    "        ynew2.append(y2 + dy*hval)\n",
    "        x2 = x2 + dx*hval\n",
    "        y2 = y2 + dy*hval\n",
    "\n",
    "        i += 1\n",
    "              \n",
    "        d = np.sqrt((float(xnew2[-1]-xnew2[-2])**2) + float((ynew2[-1]-ynew2[-2])**2))\n",
    "        \n",
    "        if d < tol:\n",
    "            break\n",
    "    \n",
    "    return xnew2, ynew2\n",
    "x2,y2 = opt_steepest_descent([1,1])\n",
    "x2= x2[-1]\n",
    "x2 = round(x2,3)\n",
    "y2= y2[-1]\n",
    "y2 = round(y2,3)\n",
    "print(f'The optimal steepest descent method also finds a minimum of {round(f(x2,y2),3)} at ({x2},{y2})')"
   ]
  },
  {
   "cell_type": "markdown",
   "id": "c37e86f9",
   "metadata": {},
   "source": [
    "# 10. Optimization: Constrained Systems"
   ]
  },
  {
   "cell_type": "markdown",
   "id": "a6b9b9dc",
   "metadata": {},
   "source": [
    "### a) linprog (learn simplex method by hand!)"
   ]
  },
  {
   "cell_type": "code",
   "execution_count": null,
   "id": "5ac66cd9",
   "metadata": {},
   "outputs": [],
   "source": [
    "from scipy.optimize import linprog\n",
    "\n",
    "xparam = [-3.86,-2.24]\n",
    "sparam = [[1,1],[1,-1],[-1,1]]\n",
    "soln = [1.4e6,0.56e6,0.56e6]\n",
    "\n",
    "x1 = [0.3e6,None]\n",
    "x2 = [0.2e6, None]\n",
    "\n",
    "#Implementing linprog\n",
    "ans = linprog(xparam, A_ub=sparam, b_ub=soln, bounds=[x1,x2])\n",
    "profit = round(-ans.fun-0.416e6)\n",
    "x1val = round(ans.x[0])\n",
    "x2val = round(ans.x[1])"
   ]
  },
  {
   "cell_type": "markdown",
   "id": "85b7c15c",
   "metadata": {},
   "source": [
    "# 11. Simulations and Monte Carlo Methods"
   ]
  },
  {
   "cell_type": "code",
   "execution_count": null,
   "id": "836802da",
   "metadata": {},
   "outputs": [],
   "source": []
  },
  {
   "cell_type": "code",
   "execution_count": null,
   "id": "7317de5c",
   "metadata": {},
   "outputs": [],
   "source": []
  }
 ],
 "metadata": {
  "kernelspec": {
   "display_name": "Python 3 (ipykernel)",
   "language": "python",
   "name": "python3"
  },
  "language_info": {
   "codemirror_mode": {
    "name": "ipython",
    "version": 3
   },
   "file_extension": ".py",
   "mimetype": "text/x-python",
   "name": "python",
   "nbconvert_exporter": "python",
   "pygments_lexer": "ipython3",
   "version": "3.9.6"
  }
 },
 "nbformat": 4,
 "nbformat_minor": 5
}
